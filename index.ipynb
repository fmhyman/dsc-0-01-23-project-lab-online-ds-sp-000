{
 "cells": [
  {
   "cell_type": "markdown",
   "metadata": {},
   "source": [
    "# Project: Analyzing Macbeth"
   ]
  },
  {
   "cell_type": "markdown",
   "metadata": {},
   "source": [
    "## Introduction\n",
    "For our first day and first data science project, we're going to do some rudimentry analysis of Shakespeare's classic play: Macbeth! You will get practice working with lists, condtionals and dictionaries, visualizing data, and thinking analytically about data."
   ]
  },
  {
   "cell_type": "markdown",
   "metadata": {},
   "source": [
    "## Objectives\n",
    "You will be able to:\n",
    "* Show mastery of the content covered in this section"
   ]
  },
  {
   "cell_type": "markdown",
   "metadata": {},
   "source": [
    "### Getting the Data\n",
    "Here we start by importing a python package and using it to pull the transcript of Macbeth from the project Gutenberg website. We also preview a few details about what is now stored in the variable macbeth; it's a string with 119,846 characters, the first 500 of which are printed below. "
   ]
  },
  {
   "cell_type": "code",
   "execution_count": 1,
   "metadata": {},
   "outputs": [
    {
     "name": "stdout",
     "output_type": "stream",
     "text": [
      "<class 'str'>\n",
      "119846\n",
      "﻿***The Project Gutenberg's Etext of Shakespeare's First Folio***\r\n",
      "********************The Tragedie of Macbeth*********************\r\n",
      "\r\n",
      "This is our 3rd edition of most of these plays.  See the index.\r\n",
      "\r\n",
      "\r\n",
      "Copyright laws are changing all over the world, be sure to check\r\n",
      "the copyright laws for your country before posting these files!!\r\n",
      "\r\n",
      "Please take a look at the important information in this header.\r\n",
      "We encourage you to keep this file on your own disk, keeping an\r\n",
      "electronic path open for the nex\n"
     ]
    }
   ],
   "source": [
    "import requests\n",
    "macbeth = requests.get('http://www.gutenberg.org/cache/epub/2264/pg2264.txt').text\n",
    "\n",
    "print(type(macbeth))\n",
    "print(len(macbeth))\n",
    "print(macbeth[:500])"
   ]
  },
  {
   "cell_type": "markdown",
   "metadata": {},
   "source": [
    "### Your Task\n",
    "\n",
    "Your task is to create a bar graph of the 25 most common words in the Shakespeare's Macbeth.  \n",
    "\n",
    "\n",
    "A common python programming pattern to counting objects, produce histograms, or update statistics is to make calls to a dictionary as you iterate through a list. For example, given a list of words, you can create a dictionary to store counts and then iterate through the list of words, checking how many times each word has appeared using your dictionary, and updating the dictionary count now that you've seen that word again. The `dictionary.get()` method is very useful in doing this. Read the docstring for the dictionary.get() method and use it along with the pseudocode above to create a bar graph of the 25 most common words from the transcript of Macbeth which has been loaded into a variable 'Macbeth'. Be sure to include a title and appropriate labels for your graph."
   ]
  },
  {
   "cell_type": "code",
   "execution_count": 90,
   "metadata": {},
   "outputs": [
    {
     "name": "stdout",
     "output_type": "stream",
     "text": [
      "1. the, 620 appearances\n",
      "2. and, 427 appearances\n",
      "3. of, 395 appearances\n",
      "4. to, 367 appearances\n",
      "5. I, 326 appearances\n",
      "6. a, 255 appearances\n",
      "7. you, 193 appearances\n",
      "8. in, 190 appearances\n",
      "9. is, 185 appearances\n",
      "10. my, 170 appearances\n",
      "11. And, 169 appearances\n",
      "12. that, 158 appearances\n",
      "13. not, 142 appearances\n",
      "14. with, 141 appearances\n",
      "15. Macb., 137 appearances\n",
      "16. be, 133 appearances\n",
      "17. The, 131 appearances\n",
      "18. it, 128 appearances\n",
      "19. his, 127 appearances\n",
      "20. your, 122 appearances\n",
      "21. our, 116 appearances\n",
      "22. haue, 114 appearances\n",
      "23. this, 108 appearances\n",
      "24. for, 100 appearances\n",
      "25. That, 80 appearances\n"
     ]
    },
    {
     "data": {
      "image/png": "[encoded data removed]",
      "text/plain": [
       "<Figure size 720x432 with 1 Axes>"
      ]
     },
     "metadata": {
      "needs_background": "light"
     },
     "output_type": "display_data"
    }
   ],
   "source": [
    "from operator import itemgetter\n",
    "from collections import OrderedDict\n",
    "import matplotlib.pyplot as plt\n",
    "%matplotlib inline\n",
    "import requests\n",
    "#grab macbeth text\n",
    "macbeth = requests.get('http://www.gutenberg.org/cache/epub/2264/pg2264.txt').text\n",
    "\n",
    "# Split the transcript into words\n",
    "word_count = dict()\n",
    "for w in macbeth.split():\n",
    "    if w in word_count.keys():\n",
    "        word_count[w] = word_count[w]+1\n",
    "    else:\n",
    "        word_count[w] = 1\n",
    "\n",
    "# Order the words by number of appearances\n",
    "Ordered_Word_Count = (sorted(word_count.items(), key=lambda t: -t[1]))\n",
    "\n",
    "# Create list of number of unique words\n",
    "Word_Count_Indices = list(range(0,len(Ordered_Word_Count)))\n",
    "\n",
    "# Create list of unique words organized by number of apearances\n",
    "descending_word_count = sorted(word_count, key=lambda x: (-word_count[x], x))\n",
    "\n",
    "# Create list of appeances for each unique word organized by number of apearances\n",
    "word_count_number = list(word_count.values())\n",
    "descending_word_count_number = sorted(word_count_number, reverse=True)\n",
    "\n",
    "# Combine unique words and unique word counts in one list\n",
    "word_count_ranks = []\n",
    "for i in Word_Count_Indices:\n",
    "    word_count_ranks.append(f\"{i+1}. {descending_word_count [i]}, {descending_word_count_number [i]} appearances\")\n",
    "for elem in word_count_ranks[0:25]:\n",
    "        print(elem)\n",
    "\n",
    "# Create Bar Graph\n",
    "plt.figure(figsize=(10,6))\n",
    "plt.bar(descending_word_count[0:25], descending_word_count_number[0:25])\n",
    "plt.xlabel('Words')\n",
    "plt.xticks(rotation=90)\n",
    "plt.ylabel('Word Count')\n",
    "plt.title('Word Counts in Macbeth')\n",
    "plt.show()\n"
   ]
  },
  {
   "cell_type": "markdown",
   "metadata": {},
   "source": [
    "### Level Up (Optional)\n",
    "This project should take you about an hour and a half to complete. If you're done much more quickly than that and are not behind in the course, feel free to deepen your knowledge by completing any or all of the following tasks until you run out of time:\n",
    "* Create a list of top characters by mentions of their names \n",
    "* Split the text by which character is talking\n",
    "* Create sub graphs of the most common words by character\n",
    "* Reduce the string to the text of the play itself. (Remove any initial notes, forward, introduction, appendix, etc.)\n",
    "* Come up with some other fun analyses of the text!"
   ]
  },
  {
   "cell_type": "markdown",
   "metadata": {},
   "source": [
    "## Summary\n",
    "Congratulations! You've got some extra practice combining various data types into useful programming patterns and done an intitial analysis of a classic text!"
   ]
  }
 ],
 "metadata": {
  "kernelspec": {
   "display_name": "learn-env",
   "language": "python",
   "name": "learn-env"
  },
  "language_info": {
   "codemirror_mode": {
    "name": "ipython",
    "version": 3
   },
   "file_extension": ".py",
   "mimetype": "text/x-python",
   "name": "python",
   "nbconvert_exporter": "python",
   "pygments_lexer": "ipython3",
   "version": "3.7.0"
  }
 },
 "nbformat": 4,
 "nbformat_minor": 2
}
